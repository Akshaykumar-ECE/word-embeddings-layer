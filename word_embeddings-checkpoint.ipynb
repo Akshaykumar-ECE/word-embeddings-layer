{
 "cells": [
  {
   "cell_type": "code",
   "execution_count": 78,
   "id": "a49600c8-cf55-44ab-83d4-3db04a7b2f5d",
   "metadata": {},
   "outputs": [
    {
     "name": "stdout",
     "output_type": "stream",
     "text": [
      "1: sindh govt decides to cut public transport fares by 7pc kti rej\n",
      "2: asia stocks up in new year trad\n",
      "3: hong kong stocks open 0.66 percent lower\n",
      "4: asian stocks sink euro near nine year \n",
      "5: us oil prices slip below 50 a barr\n",
      "6: oil hits new 5.5 year lows as saudis defend \n",
      "7: bullish kse jumps over 33000 psychological barrier\n",
      "8: oil falls further in asian trad\n",
      "9: sugar prices drop to rs 49.80 in sind\n",
      "10: oil extends losses as world bank cuts growth for\n",
      "11: tokyo stocks open 0.74 percent lower\n",
      "12: hong kong stocks open 0.24 percent higher\n",
      "13: oil market rebounds on iea repor\n",
      "14: govt may take up to ten days to overcome petrol shortag\n",
      "15: brent crude steady around 50\n",
      "16: report presented to pm holds ogra responsible for fuel crisi\n",
      "17: notification issued for reduction in electricity charges for karachi nepr\n",
      "18: asia stocks mostly higher ahead of ecb meeting\n",
      "19: ecc approves export of 1.2 million tons of \n",
      "20: new saudi king seen holding line on opec policy to keep oil output hig\n",
      "21: nepra prevents k electric from collecting meter r\n",
      "22: finance minister apprised on pak brunei investment \n",
      "23: pakistan fuel crisis weighing on credit worthiness moody\n",
      "24: petrol price expected to be slashed by rs 10 per litr\n",
      "25: euro maintains gains asia stocks adv\n",
      "26: oil rebounds sharply from six year lows as dollar \n",
      "27: sbp warns islamic banks to be more equitab\n",
      "28: oil slumps as us crude reserves surge to record hig\n",
      "29: finance minister announces five percent increase in gst on pol produ\n",
      "30: us probes moodys rating agency\n",
      "31: oil prices slide after rally\n",
      "32: no unannounced load shedding anywhere in the country abid sher ali\n",
      "33: oil prices extend \n",
      "34: pak imf talks conclude agreement for release of 518 milli\n",
      "35: final shipment of 15 chinese engines arrives at karachi por\n",
      "36: oil extends gains before us jobs d\n",
      "37: contract for 650mw supply to k electric cannot be renewed ministry\n",
      "38: tokyo stocks open up 1.09 per\n",
      "39: january 2015 saw record sale of petrol in paki\n",
      "40: oil prices extend gai\n",
      "41: hsbc admits swiss bank failings over client tax\n",
      "42: oil prices fall as iea predicts weak rebound\n",
      "43: intra kashmir trade resumes after six day\n",
      "44: pakistan wants early implementation of tapi project \n",
      "45: hotel prices skyrocket in australia ahead of world cu\n",
      "46: nokia 215 dual sim launched in paki\n",
      "47: cnic number now tax number only companies allowed ntn dar\n",
      "48: govt imposes new taxes of rs4 billi\n",
      "49: oil prices rise in asian trad\n",
      "50: oil prices extend gai\n",
      "51: furnace oil price rises by about rs 2000 per \n",
      "52: nepra notifies relief of rs 3.24 per unit for consumer\n",
      "53: qatargas pakistan close to 15 year lng supply d\n",
      "54: asia stocks boosted by greek debt deal \n",
      "55: operation zarb e azb may cost over 1.3 billion dar\n",
      "56: oil prices fall on eve of us inventory d\n",
      "57: apple to begin manufacturing electric vehicles as early as 2020\n",
      "58: oil prices fall in new yor\n",
      "59: lng import to begin from march 31 abbasi\n",
      "60: oil prices extend slid\n",
      "61: price of sugar decreases in karachi\n",
      "62: oil prices rebound slightly\n",
      "63: tokyo stocks open f\n",
      "64: pol prices likely to go up from march 1\n",
      "65: oil rebounds after volatile \n",
      "66: tajikistan to help pakistan overcome energy crisis through kasa 1000 proj\n",
      "67: oil market recoils on oversupply\n",
      "68: hong kong stocks open 0.70 percent higher\n",
      "69: bill gates still the richest man in the world\n",
      "70: pact with k electric expired govt not bound to provide power asif\n",
      "71: oil prices rise before us jobs d\n",
      "72: bahria town kelectric ink agreement on power plants for karachi\n",
      "73: security situation integral in economic survey of pakistan imf\n",
      "74: fbr moves to widen tax net but big fish yet to be caug\n",
      "75: dollar at 12 year peak vs euro emerging markets spooked\n",
      "76: cng stations in sindh to remain shut on thursday\n",
      "77: oil market adv\n",
      "78: pakistans economy improving imf\n",
      "79: oil market drops on iea price warning\n",
      "80: ecc approves allocation of 75pc gas from tapi to sng\n",
      "81: us oil price hits six year \n",
      "82: further cut in sbp policy rate expected\n",
      "83: us oil price nears six year \n",
      "84: pay raise for railways employees on card\n",
      "85: stocks tumble as kse 100 share index drops 817 poi\n",
      "86: oil prices extend losses in asi\n",
      "87: dollar pressured after fed tempers interest rate \n",
      "88: sbp announces monetary policy 13 year low interest r\n",
      "89: oil drops as saudi output nears record china demand worries drag\n",
      "90: moodys upgrades pakistan bond rating\n",
      "91: oil prices mixed in asia before us stockpiles d\n",
      "92: first qatar lng shipment reaches karachi por\n",
      "93: asian markets follow wall st lower after us d\n",
      "94: oil drops after yemen inspired gai\n",
      "95: free fall continues as kse 100 plummets 1000 poi\n",
      "96: oil prices drop on weak demand potential iran d\n",
      "97: petrol price goes up by rs 4 for apri\n",
      "98: stock market regains 1100 points to recover from previous days plung\n",
      "99: petrol price increased by rs 4 for the month of apri\n",
      "100: china to invest in pakistans oil and gas sector\n"
     ]
    }
   ],
   "source": [
    "import pandas as pd\n",
    "from tensorflow.keras.preprocessing.text import one_hot\n",
    "from tensorflow.keras.preprocessing.sequence import pad_sequences\n",
    "\n",
    "# Load dataset\n",
    "PATH = r\"C:\\Users\\aksha\\Downloads\\archive (14)\\Articles.csv\"\n",
    "df = pd.read_csv(PATH, encoding=\"latin1\")\n",
    "\n",
    "# Use only the 'Heading' column (each row = one sentence)\n",
    "texts = df['Heading'].dropna().astype(str).tolist()\n",
    "\n",
    "# Print only first 100 sentences\n",
    "for i, sentence in enumerate(texts[:100], start=1):\n",
    "    print(f\"{i}: {sentence}\")\n"
   ]
  },
  {
   "cell_type": "code",
   "execution_count": 79,
   "id": "5f7d6571-aeea-4897-a599-478b4e3c7144",
   "metadata": {},
   "outputs": [
    {
     "name": "stdout",
     "output_type": "stream",
     "text": [
      "['sindh govt decides to cut public transport fares by pc kti rej', 'asia stocks up in new year trad', 'hong kong stocks open percent lower', 'asian stocks sink euro near nine year', 'us oil prices slip below a barr', 'oil hits new year lows as saudis defend', 'bullish kse jumps over psychological barrier', 'oil falls further in asian trad', 'sugar prices drop to rs in sind', 'oil extends losses as world bank cuts growth for', 'tokyo stocks open percent lower', 'hong kong stocks open percent higher', 'oil market rebounds on iea repor', 'govt may take up to ten days to overcome petrol shortag', 'brent crude steady around', 'report presented to pm holds ogra responsible for fuel crisi', 'notification issued for reduction in electricity charges for karachi nepr', 'asia stocks mostly higher ahead of ecb meeting', 'ecc approves export of million tons of', 'new saudi king seen holding line on opec policy to keep oil output hig', 'nepra prevents k electric from collecting meter r', 'finance minister apprised on pak brunei investment', 'pakistan fuel crisis weighing on credit worthiness moody', 'petrol price expected to be slashed by rs per litr', 'euro maintains gains asia stocks adv', 'oil rebounds sharply from six year lows as dollar', 'sbp warns islamic banks to be more equitab', 'oil slumps as us crude reserves surge to record hig', 'finance minister announces five percent increase in gst on pol produ', 'us probes moodys rating agency', 'oil prices slide after rally', 'no unannounced load shedding anywhere in the country abid sher ali', 'oil prices extend', 'pak imf talks conclude agreement for release of milli', 'final shipment of chinese engines arrives at karachi por', 'oil extends gains before us jobs d', 'contract for mw supply to k electric cannot be renewed ministry', 'tokyo stocks open up per', 'january saw record sale of petrol in paki', 'oil prices extend gai', 'hsbc admits swiss bank failings over client tax', 'oil prices fall as iea predicts weak rebound', 'intra kashmir trade resumes after six day', 'pakistan wants early implementation of tapi project', 'hotel prices skyrocket in australia ahead of world cu', 'nokia dual sim launched in paki', 'cnic number now tax number only companies allowed ntn dar', 'govt imposes new taxes of rs billi', 'oil prices rise in asian trad', 'oil prices extend gai', 'furnace oil price rises by about rs per', 'nepra notifies relief of rs per unit for consumer', 'qatargas pakistan close to year lng supply d', 'asia stocks boosted by greek debt deal', 'operation zarb e azb may cost over billion dar', 'oil prices fall on eve of us inventory d', 'apple to begin manufacturing electric vehicles as early as', 'oil prices fall in new yor', 'lng import to begin from march abbasi', 'oil prices extend slid', 'price of sugar decreases in karachi', 'oil prices rebound slightly', 'tokyo stocks open f', 'pol prices likely to go up from march', 'oil rebounds after volatile', 'tajikistan to help pakistan overcome energy crisis through kasa proj', 'oil market recoils on oversupply', 'hong kong stocks open percent higher', 'bill gates still the richest man in the world', 'pact with k electric expired govt not bound to provide power asif', 'oil prices rise before us jobs d', 'bahria town kelectric ink agreement on power plants for karachi', 'security situation integral in economic survey of pakistan imf', 'fbr moves to widen tax net but big fish yet to be caug', 'dollar at year peak vs euro emerging markets spooked', 'cng stations in sindh to remain shut on thursday', 'oil market adv', 'pakistans economy improving imf', 'oil market drops on iea price warning', 'ecc approves allocation of pc gas from tapi to sng', 'us oil price hits six year', 'further cut in sbp policy rate expected', 'us oil price nears six year', 'pay raise for railways employees on card', 'stocks tumble as kse share index drops poi', 'oil prices extend losses in asi', 'dollar pressured after fed tempers interest rate', 'sbp announces monetary policy year low interest r', 'oil drops as saudi output nears record china demand worries drag', 'moodys upgrades pakistan bond rating', 'oil prices mixed in asia before us stockpiles d', 'first qatar lng shipment reaches karachi por', 'asian markets follow wall st lower after us d', 'oil drops after yemen inspired gai', 'free fall continues as kse plummets poi', 'oil prices drop on weak demand potential iran d', 'petrol price goes up by rs for apri', 'stock market regains points to recover from previous days plung', 'petrol price increased by rs for the month of apri', 'china to invest in pakistans oil and gas sector']\n"
     ]
    }
   ],
   "source": [
    "import re\n",
    "\n",
    "def clean_text(text):\n",
    "    # lowercase\n",
    "    text = text.lower()\n",
    "    # remove special chars and digits\n",
    "    text = re.sub(r'[^a-z\\s]', '', text)\n",
    "    # remove multiple spaces\n",
    "    text = re.sub(r'\\s+', ' ', text).strip()\n",
    "    return text\n",
    "\n",
    "texts = [clean_text(t) for t in texts]\n",
    "print(texts[:100])\n"
   ]
  },
  {
   "cell_type": "code",
   "execution_count": 80,
   "id": "dd5f1133-0cf1-42a5-b3fc-0ac41f0dda78",
   "metadata": {},
   "outputs": [],
   "source": [
    "voc_size=1000"
   ]
  },
  {
   "cell_type": "code",
   "execution_count": 81,
   "id": "8c7be937-0aa3-48fa-b823-5528f66e4b0f",
   "metadata": {},
   "outputs": [],
   "source": [
    "from tensorflow.keras.preprocessing.text import one_hot"
   ]
  },
  {
   "cell_type": "code",
   "execution_count": 82,
   "id": "f31e7403-9c6f-4409-8c77-7f4b097b3588",
   "metadata": {},
   "outputs": [
    {
     "name": "stdout",
     "output_type": "stream",
     "text": [
      "[[511, 84, 344, 490, 527, 451, 90, 918, 236, 175, 11, 971], [515, 200, 256, 398, 695, 213, 564], [233, 842, 200, 425, 723, 351], [340, 200, 141, 778, 615, 60, 213], [278, 811, 699, 147, 142, 468, 634], [811, 903, 695, 213, 775, 146, 725, 638], [503, 423, 796, 282, 11, 103], [811, 734, 906, 398, 340, 564], [991, 699, 537, 490, 586, 398, 166], [811, 817, 705, 146, 741, 185, 378, 726, 873], [358, 200, 425, 723, 351], [233, 842, 200, 425, 723, 310], [811, 828, 853, 153, 559, 685], [84, 707, 150, 256, 490, 124, 630, 490, 761, 930, 691], [578, 495, 682, 146], [336, 763, 490, 477, 950, 655, 144, 873, 482, 472], [9, 278, 873, 899, 398, 816, 528, 873, 217, 895], [515, 200, 407, 310, 751, 610, 287, 652], [508, 627, 630, 610, 166, 371, 610], [695, 176, 514, 442, 564, 467, 153, 737, 115, 490, 556, 811, 968, 857], [452, 250, 899, 91, 669, 929, 326, 770], [693, 299, 138, 153, 335, 951, 972], [898, 482, 488, 83, 153, 4, 696, 136], [930, 506, 677, 490, 243, 111, 236, 586, 229, 730], [778, 599, 186, 515, 200, 869], [811, 853, 110, 669, 84, 213, 775, 146, 281], [858, 461, 361, 328, 490, 243, 527, 424], [811, 812, 146, 278, 495, 586, 474, 490, 627, 857], [693, 299, 748, 219, 723, 99, 398, 355, 153, 997, 976], [278, 366, 821, 992, 457], [811, 699, 758, 253, 908], [430, 613, 738, 80, 599, 398, 243, 53, 359, 685, 441], [811, 699, 139], [335, 174, 825, 628, 1, 873, 760, 610, 155], [526, 449, 610, 5, 767, 88, 908, 217, 616], [811, 817, 186, 349, 278, 944, 236], [213, 873, 847, 100, 490, 899, 91, 906, 243, 91, 539], [358, 200, 425, 256, 229], [313, 584, 627, 789, 610, 930, 398, 37], [811, 699, 139, 640], [121, 670, 785, 185, 625, 282, 929, 563], [811, 699, 278, 146, 559, 697, 681, 269], [1, 377, 705, 105, 253, 84, 888], [898, 27, 172, 948, 610, 149, 34], [765, 699, 299, 398, 982, 751, 610, 741, 385], [78, 708, 265, 320, 398, 37], [505, 107, 885, 563, 107, 716, 591, 149, 929, 671], [84, 365, 695, 682, 610, 586, 768], [811, 699, 427, 398, 340, 564], [811, 699, 139, 640], [455, 811, 506, 765, 236, 209, 586, 229], [452, 536, 822, 610, 586, 229, 317, 873, 399], [463, 898, 670, 490, 213, 365, 100, 236], [515, 200, 502, 236, 230, 272, 44], [842, 789, 348, 660, 707, 476, 282, 575, 671], [811, 699, 278, 153, 687, 610, 278, 173, 236], [674, 490, 96, 162, 91, 173, 146, 172, 146], [811, 699, 278, 398, 695, 342], [365, 892, 490, 96, 669, 34, 471], [811, 699, 139, 403], [506, 610, 991, 590, 398, 217], [811, 699, 269, 725], [358, 200, 425, 701], [997, 699, 846, 490, 263, 256, 669, 34], [811, 853, 253, 183], [685, 490, 912, 898, 761, 299, 488, 832, 2, 674], [811, 828, 52, 153, 168], [233, 842, 200, 425, 723, 310], [573, 857, 204, 243, 507, 264, 398, 243, 741], [436, 976, 899, 91, 576, 84, 827, 69, 490, 400, 862, 380], [811, 699, 427, 349, 278, 944, 236], [372, 215, 138, 590, 1, 153, 862, 555, 873, 217], [236, 219, 895, 398, 762, 205, 610, 898, 174], [747, 527, 490, 564, 563, 387, 151, 61, 849, 225, 490, 243, 772], [281, 908, 213, 680, 126, 778, 28, 613, 906], [211, 265, 398, 511, 490, 727, 796, 153, 693], [811, 828, 869], [132, 147, 56, 174], [811, 828, 564, 153, 559, 506, 915], [508, 627, 411, 610, 175, 738, 669, 149, 490, 144], [278, 811, 506, 903, 84, 213], [906, 527, 398, 858, 115, 548, 677], [278, 811, 506, 495, 84, 213], [851, 977, 873, 538, 706, 153, 270], [200, 936, 146, 423, 326, 677, 564, 953], [811, 699, 139, 705, 398, 299], [281, 226, 253, 2, 137, 62, 548], [858, 748, 502, 115, 213, 355, 62, 770], [811, 564, 146, 176, 968, 495, 627, 358, 31, 835, 363], [821, 941, 898, 561, 992], [811, 699, 773, 398, 515, 349, 278, 803, 236], [132, 701, 365, 449, 658, 217, 616], [340, 613, 311, 162, 466, 351, 253, 278, 236], [811, 564, 253, 247, 119, 640], [987, 278, 902, 146, 423, 812, 953], [811, 699, 537, 153, 681, 31, 742, 890, 236], [930, 506, 779, 256, 236, 586, 873, 705], [802, 828, 335, 533, 490, 181, 669, 407, 630, 344], [930, 506, 132, 236, 586, 873, 243, 683, 610, 705], [358, 490, 922, 398, 132, 811, 669, 738, 312]]\n"
     ]
    }
   ],
   "source": [
    "onehot_repr=[one_hot(words,voc_size)for words in texts[:100]] \n",
    "print(onehot_repr)"
   ]
  },
  {
   "cell_type": "code",
   "execution_count": 83,
   "id": "b1c460d0-270b-4679-a544-9d12769f9546",
   "metadata": {},
   "outputs": [],
   "source": [
    "from tensorflow.keras.layers import Embedding\n",
    "from tensorflow.keras.preprocessing.sequence import pad_sequences\n",
    "from tensorflow.keras.models import Sequential"
   ]
  },
  {
   "cell_type": "code",
   "execution_count": 84,
   "id": "6d1b61b1-78b1-42c1-9692-deb21683eb65",
   "metadata": {},
   "outputs": [],
   "source": [
    "import numpy as np"
   ]
  },
  {
   "cell_type": "code",
   "execution_count": 85,
   "id": "c5402e3d-7b36-4b88-8109-3afbb3a9da1a",
   "metadata": {},
   "outputs": [
    {
     "name": "stdout",
     "output_type": "stream",
     "text": [
      "sentence_length 14\n",
      "[[  0   0 511 ... 175  11 971]\n",
      " [  0   0   0 ... 695 213 564]\n",
      " [  0   0   0 ... 425 723 351]\n",
      " ...\n",
      " [  0   0   0 ... 407 630 344]\n",
      " [  0   0   0 ... 683 610 705]\n",
      " [  0   0   0 ... 669 738 312]]\n"
     ]
    }
   ],
   "source": [
    "## pre padding\n",
    "sent_length = max([len(seq) for seq in onehot_repr])\n",
    "embedded_docs=pad_sequences(onehot_repr,padding='pre',maxlen=sent_length)\n",
    "print('sentence_length',sent_length)\n",
    "print(embedded_docs)\n"
   ]
  },
  {
   "cell_type": "code",
   "execution_count": 86,
   "id": "51f41fd7-24b5-43c5-85d5-fd6626f51934",
   "metadata": {},
   "outputs": [],
   "source": [
    "## 10 feature dimesnions\n",
    "dim=10\n"
   ]
  },
  {
   "cell_type": "code",
   "execution_count": 87,
   "id": "bccb437c-22e0-4288-8877-b8f53fd1bf05",
   "metadata": {},
   "outputs": [
    {
     "name": "stderr",
     "output_type": "stream",
     "text": [
      "C:\\Users\\aksha\\AppData\\Local\\Programs\\Python\\Python311\\Lib\\site-packages\\keras\\src\\layers\\core\\embedding.py:97: UserWarning: Argument `input_length` is deprecated. Just remove it.\n",
      "  warnings.warn(\n"
     ]
    },
    {
     "name": "stdout",
     "output_type": "stream",
     "text": [
      "\u001b[1m1/1\u001b[0m \u001b[32m━━━━━━━━━━━━━━━━━━━━\u001b[0m\u001b[37m\u001b[0m \u001b[1m0s\u001b[0m 177ms/step\n",
      "Embedding shape: (1, 14, 10)\n"
     ]
    }
   ],
   "source": [
    "from tensorflow.keras.models import Sequential\n",
    "from tensorflow.keras.layers import Embedding\n",
    "import numpy as np\n",
    "\n",
    "voc_size = 5000\n",
    "sent_length = 14\n",
    "\n",
    "model = Sequential()\n",
    "model.add(Embedding(voc_size, 10, input_length=sent_length))\n",
    "\n",
    "# Dummy input (batch of 1 sentence, length 14)\n",
    "x = np.random.randint(0, voc_size, (1, sent_length))\n",
    "\n",
    "embedding_output = model.predict(x)\n",
    "print(\"Embedding shape:\", embedding_output.shape)\n"
   ]
  },
  {
   "cell_type": "code",
   "execution_count": 88,
   "id": "1dfebea5-eb16-4104-b76d-6a4d7cb822d3",
   "metadata": {},
   "outputs": [
    {
     "data": {
      "text/html": [
       "<pre style=\"white-space:pre;overflow-x:auto;line-height:normal;font-family:Menlo,'DejaVu Sans Mono',consolas,'Courier New',monospace\"><span style=\"font-weight: bold\">Model: \"sequential_7\"</span>\n",
       "</pre>\n"
      ],
      "text/plain": [
       "\u001b[1mModel: \"sequential_7\"\u001b[0m\n"
      ]
     },
     "metadata": {},
     "output_type": "display_data"
    },
    {
     "data": {
      "text/html": [
       "<pre style=\"white-space:pre;overflow-x:auto;line-height:normal;font-family:Menlo,'DejaVu Sans Mono',consolas,'Courier New',monospace\">┏━━━━━━━━━━━━━━━━━━━━━━━━━━━━━━━━━━━━━━┳━━━━━━━━━━━━━━━━━━━━━━━━━━━━━┳━━━━━━━━━━━━━━━━━┓\n",
       "┃<span style=\"font-weight: bold\"> Layer (type)                         </span>┃<span style=\"font-weight: bold\"> Output Shape                </span>┃<span style=\"font-weight: bold\">         Param # </span>┃\n",
       "┡━━━━━━━━━━━━━━━━━━━━━━━━━━━━━━━━━━━━━━╇━━━━━━━━━━━━━━━━━━━━━━━━━━━━━╇━━━━━━━━━━━━━━━━━┩\n",
       "│ embedding_7 (<span style=\"color: #0087ff; text-decoration-color: #0087ff\">Embedding</span>)              │ (<span style=\"color: #00af00; text-decoration-color: #00af00\">1</span>, <span style=\"color: #00af00; text-decoration-color: #00af00\">14</span>, <span style=\"color: #00af00; text-decoration-color: #00af00\">10</span>)                 │          <span style=\"color: #00af00; text-decoration-color: #00af00\">50,000</span> │\n",
       "└──────────────────────────────────────┴─────────────────────────────┴─────────────────┘\n",
       "</pre>\n"
      ],
      "text/plain": [
       "┏━━━━━━━━━━━━━━━━━━━━━━━━━━━━━━━━━━━━━━┳━━━━━━━━━━━━━━━━━━━━━━━━━━━━━┳━━━━━━━━━━━━━━━━━┓\n",
       "┃\u001b[1m \u001b[0m\u001b[1mLayer (type)                        \u001b[0m\u001b[1m \u001b[0m┃\u001b[1m \u001b[0m\u001b[1mOutput Shape               \u001b[0m\u001b[1m \u001b[0m┃\u001b[1m \u001b[0m\u001b[1m        Param #\u001b[0m\u001b[1m \u001b[0m┃\n",
       "┡━━━━━━━━━━━━━━━━━━━━━━━━━━━━━━━━━━━━━━╇━━━━━━━━━━━━━━━━━━━━━━━━━━━━━╇━━━━━━━━━━━━━━━━━┩\n",
       "│ embedding_7 (\u001b[38;5;33mEmbedding\u001b[0m)              │ (\u001b[38;5;34m1\u001b[0m, \u001b[38;5;34m14\u001b[0m, \u001b[38;5;34m10\u001b[0m)                 │          \u001b[38;5;34m50,000\u001b[0m │\n",
       "└──────────────────────────────────────┴─────────────────────────────┴─────────────────┘\n"
      ]
     },
     "metadata": {},
     "output_type": "display_data"
    },
    {
     "data": {
      "text/html": [
       "<pre style=\"white-space:pre;overflow-x:auto;line-height:normal;font-family:Menlo,'DejaVu Sans Mono',consolas,'Courier New',monospace\"><span style=\"font-weight: bold\"> Total params: </span><span style=\"color: #00af00; text-decoration-color: #00af00\">50,000</span> (195.31 KB)\n",
       "</pre>\n"
      ],
      "text/plain": [
       "\u001b[1m Total params: \u001b[0m\u001b[38;5;34m50,000\u001b[0m (195.31 KB)\n"
      ]
     },
     "metadata": {},
     "output_type": "display_data"
    },
    {
     "data": {
      "text/html": [
       "<pre style=\"white-space:pre;overflow-x:auto;line-height:normal;font-family:Menlo,'DejaVu Sans Mono',consolas,'Courier New',monospace\"><span style=\"font-weight: bold\"> Trainable params: </span><span style=\"color: #00af00; text-decoration-color: #00af00\">50,000</span> (195.31 KB)\n",
       "</pre>\n"
      ],
      "text/plain": [
       "\u001b[1m Trainable params: \u001b[0m\u001b[38;5;34m50,000\u001b[0m (195.31 KB)\n"
      ]
     },
     "metadata": {},
     "output_type": "display_data"
    },
    {
     "data": {
      "text/html": [
       "<pre style=\"white-space:pre;overflow-x:auto;line-height:normal;font-family:Menlo,'DejaVu Sans Mono',consolas,'Courier New',monospace\"><span style=\"font-weight: bold\"> Non-trainable params: </span><span style=\"color: #00af00; text-decoration-color: #00af00\">0</span> (0.00 B)\n",
       "</pre>\n"
      ],
      "text/plain": [
       "\u001b[1m Non-trainable params: \u001b[0m\u001b[38;5;34m0\u001b[0m (0.00 B)\n"
      ]
     },
     "metadata": {},
     "output_type": "display_data"
    }
   ],
   "source": [
    "model.summary()"
   ]
  },
  {
   "cell_type": "code",
   "execution_count": 89,
   "id": "b25af044-44fe-4c93-8c0a-2ce5a984d278",
   "metadata": {},
   "outputs": [
    {
     "data": {
      "text/plain": [
       "array([  0,   0, 511,  84, 344, 490, 527, 451,  90, 918, 236, 175,  11,\n",
       "       971])"
      ]
     },
     "execution_count": 89,
     "metadata": {},
     "output_type": "execute_result"
    }
   ],
   "source": [
    "embedded_docs[0]"
   ]
  },
  {
   "cell_type": "code",
   "execution_count": 90,
   "id": "b7d9bdf7-79d2-457c-a7c1-0b1672aa004a",
   "metadata": {},
   "outputs": [
    {
     "name": "stdout",
     "output_type": "stream",
     "text": [
      "\u001b[1m1/1\u001b[0m \u001b[32m━━━━━━━━━━━━━━━━━━━━\u001b[0m\u001b[37m\u001b[0m \u001b[1m0s\u001b[0m 90ms/step\n"
     ]
    },
    {
     "data": {
      "text/plain": [
       "array([[[-4.87921350e-02,  4.38048504e-02,  2.25700438e-04,\n",
       "         -1.98177453e-02, -6.66006655e-03, -5.30459732e-03,\n",
       "         -2.81062610e-02,  3.76687199e-03, -1.51958577e-02,\n",
       "          1.38271935e-02],\n",
       "        [-4.87921350e-02,  4.38048504e-02,  2.25700438e-04,\n",
       "         -1.98177453e-02, -6.66006655e-03, -5.30459732e-03,\n",
       "         -2.81062610e-02,  3.76687199e-03, -1.51958577e-02,\n",
       "          1.38271935e-02],\n",
       "        [-1.12308152e-02, -3.53632197e-02,  1.50291957e-02,\n",
       "         -2.79066209e-02,  4.17792685e-02,  3.24940197e-02,\n",
       "          4.36401628e-02, -1.90275311e-02,  4.19840217e-05,\n",
       "          3.47797610e-02],\n",
       "        [ 3.10699977e-02,  4.71878797e-04, -1.44888647e-02,\n",
       "          4.04194333e-02, -1.24046803e-02, -2.24295016e-02,\n",
       "          2.06432380e-02, -3.99173126e-02, -1.97911020e-02,\n",
       "         -9.54650342e-04],\n",
       "        [ 1.38586871e-02, -3.35219875e-02, -3.44804302e-02,\n",
       "          4.95046638e-02,  2.06456333e-03, -9.76842642e-03,\n",
       "          2.95330398e-02, -3.99801247e-02,  1.41564496e-02,\n",
       "          3.15529145e-02],\n",
       "        [-5.57814911e-03, -7.96307251e-03,  4.63322289e-02,\n",
       "          1.92920677e-02,  6.31999224e-04,  2.47097351e-02,\n",
       "         -7.60425255e-03,  4.19505946e-02,  3.37099768e-02,\n",
       "          1.23872049e-02],\n",
       "        [-4.23660651e-02,  3.72121967e-02, -2.91961320e-02,\n",
       "         -9.35902447e-03,  1.91865675e-02,  3.47546451e-02,\n",
       "          2.61378773e-02,  1.53976418e-02,  2.53410004e-02,\n",
       "          1.79909356e-02],\n",
       "        [-2.11722385e-02, -3.63155603e-02, -2.82183532e-02,\n",
       "          2.95312069e-02, -1.67758241e-02, -4.14643064e-02,\n",
       "         -1.22518912e-02,  9.05976444e-03, -4.38992493e-02,\n",
       "         -8.75239447e-03],\n",
       "        [-2.08613630e-02,  2.87365578e-02, -4.82758284e-02,\n",
       "         -2.39110719e-02,  2.19797380e-02,  2.21778490e-02,\n",
       "         -4.93144169e-02,  3.78360599e-03, -4.60895188e-02,\n",
       "          4.18052115e-02],\n",
       "        [ 4.49326076e-02,  4.04923297e-02,  3.32875960e-02,\n",
       "          3.21199745e-03, -2.83833034e-02,  9.43670422e-03,\n",
       "          3.30603980e-02,  2.75354274e-02, -1.36239752e-02,\n",
       "          8.28356668e-03],\n",
       "        [-6.15645200e-04, -2.51115095e-02, -2.19584238e-02,\n",
       "         -2.23530661e-02,  4.82734106e-02,  4.25781049e-02,\n",
       "         -4.45577763e-02, -9.90360975e-03, -4.67304699e-02,\n",
       "          2.89522670e-02],\n",
       "        [-2.07037926e-02,  4.32778634e-02, -4.95945588e-02,\n",
       "         -3.22267190e-02,  2.27563269e-02,  7.32022524e-03,\n",
       "          2.73004882e-02,  2.31091715e-02,  8.34535435e-03,\n",
       "          2.29075290e-02],\n",
       "        [ 1.09922998e-02, -1.79175846e-02,  1.08063817e-02,\n",
       "         -2.28409655e-02, -3.99289280e-03,  1.26566999e-02,\n",
       "         -4.31952253e-02,  4.10446040e-02,  2.94733755e-02,\n",
       "         -1.13986023e-02],\n",
       "        [ 3.00438665e-02, -1.43936649e-02,  1.79800726e-02,\n",
       "         -3.42877395e-02,  4.49541099e-02, -2.01301649e-03,\n",
       "         -1.17217675e-02,  2.73173116e-02, -2.82350928e-03,\n",
       "         -1.38904676e-02]]], dtype=float32)"
      ]
     },
     "execution_count": 90,
     "metadata": {},
     "output_type": "execute_result"
    }
   ],
   "source": [
    "import numpy as np\n",
    "\n",
    "# Reshape to (1, 14)\n",
    "model.predict(np.array([embedded_docs[0]]))\n"
   ]
  },
  {
   "cell_type": "code",
   "execution_count": 91,
   "id": "f44da2d7-4d25-4106-a887-e693b88f744a",
   "metadata": {},
   "outputs": [
    {
     "name": "stdout",
     "output_type": "stream",
     "text": [
      "\u001b[1m4/4\u001b[0m \u001b[32m━━━━━━━━━━━━━━━━━━━━\u001b[0m\u001b[37m\u001b[0m \u001b[1m0s\u001b[0m 10ms/step\n"
     ]
    },
    {
     "data": {
      "text/plain": [
       "array([[[-4.87921350e-02,  4.38048504e-02,  2.25700438e-04, ...,\n",
       "          3.76687199e-03, -1.51958577e-02,  1.38271935e-02],\n",
       "        [-4.87921350e-02,  4.38048504e-02,  2.25700438e-04, ...,\n",
       "          3.76687199e-03, -1.51958577e-02,  1.38271935e-02],\n",
       "        [-1.12308152e-02, -3.53632197e-02,  1.50291957e-02, ...,\n",
       "         -1.90275311e-02,  4.19840217e-05,  3.47797610e-02],\n",
       "        ...,\n",
       "        [-2.07037926e-02,  4.32778634e-02, -4.95945588e-02, ...,\n",
       "          2.31091715e-02,  8.34535435e-03,  2.29075290e-02],\n",
       "        [ 1.09922998e-02, -1.79175846e-02,  1.08063817e-02, ...,\n",
       "          4.10446040e-02,  2.94733755e-02, -1.13986023e-02],\n",
       "        [ 3.00438665e-02, -1.43936649e-02,  1.79800726e-02, ...,\n",
       "          2.73173116e-02, -2.82350928e-03, -1.38904676e-02]],\n",
       "\n",
       "       [[-4.87921350e-02,  4.38048504e-02,  2.25700438e-04, ...,\n",
       "          3.76687199e-03, -1.51958577e-02,  1.38271935e-02],\n",
       "        [-4.87921350e-02,  4.38048504e-02,  2.25700438e-04, ...,\n",
       "          3.76687199e-03, -1.51958577e-02,  1.38271935e-02],\n",
       "        [-4.87921350e-02,  4.38048504e-02,  2.25700438e-04, ...,\n",
       "          3.76687199e-03, -1.51958577e-02,  1.38271935e-02],\n",
       "        ...,\n",
       "        [ 3.78972292e-03,  3.49955074e-02, -3.26148421e-02, ...,\n",
       "         -3.85351405e-02,  9.96243954e-03, -3.66240256e-02],\n",
       "        [-3.29259522e-02,  2.48254463e-03, -3.81589420e-02, ...,\n",
       "          1.60217397e-02,  4.45329659e-02,  4.56983782e-02],\n",
       "        [-7.60912895e-04,  3.36805023e-02,  4.02435698e-02, ...,\n",
       "          8.51330906e-03, -4.40483354e-02, -1.96414068e-03]],\n",
       "\n",
       "       [[-4.87921350e-02,  4.38048504e-02,  2.25700438e-04, ...,\n",
       "          3.76687199e-03, -1.51958577e-02,  1.38271935e-02],\n",
       "        [-4.87921350e-02,  4.38048504e-02,  2.25700438e-04, ...,\n",
       "          3.76687199e-03, -1.51958577e-02,  1.38271935e-02],\n",
       "        [-4.87921350e-02,  4.38048504e-02,  2.25700438e-04, ...,\n",
       "          3.76687199e-03, -1.51958577e-02,  1.38271935e-02],\n",
       "        ...,\n",
       "        [ 9.51081514e-03, -1.91361550e-02, -3.27072293e-03, ...,\n",
       "          1.96678564e-03,  2.95746587e-02, -3.18621285e-02],\n",
       "        [-4.70149517e-02, -3.23145464e-03, -1.74975172e-02, ...,\n",
       "         -4.94327322e-02, -9.71984863e-03, -1.40996352e-02],\n",
       "        [-1.26969591e-02, -3.22469100e-02, -4.05892357e-02, ...,\n",
       "         -1.32776797e-04,  3.68506424e-02, -2.84807440e-02]],\n",
       "\n",
       "       ...,\n",
       "\n",
       "       [[-4.87921350e-02,  4.38048504e-02,  2.25700438e-04, ...,\n",
       "          3.76687199e-03, -1.51958577e-02,  1.38271935e-02],\n",
       "        [-4.87921350e-02,  4.38048504e-02,  2.25700438e-04, ...,\n",
       "          3.76687199e-03, -1.51958577e-02,  1.38271935e-02],\n",
       "        [-4.87921350e-02,  4.38048504e-02,  2.25700438e-04, ...,\n",
       "          3.76687199e-03, -1.51958577e-02,  1.38271935e-02],\n",
       "        ...,\n",
       "        [ 4.88982461e-02,  4.49260585e-02,  1.05703585e-02, ...,\n",
       "          3.83652784e-02, -3.88211235e-02,  4.90685217e-02],\n",
       "        [ 4.44718935e-02, -1.61579996e-03, -3.50868106e-02, ...,\n",
       "         -2.16932297e-02, -2.48903986e-02,  4.36734892e-02],\n",
       "        [ 1.38586871e-02, -3.35219875e-02, -3.44804302e-02, ...,\n",
       "         -3.99801247e-02,  1.41564496e-02,  3.15529145e-02]],\n",
       "\n",
       "       [[-4.87921350e-02,  4.38048504e-02,  2.25700438e-04, ...,\n",
       "          3.76687199e-03, -1.51958577e-02,  1.38271935e-02],\n",
       "        [-4.87921350e-02,  4.38048504e-02,  2.25700438e-04, ...,\n",
       "          3.76687199e-03, -1.51958577e-02,  1.38271935e-02],\n",
       "        [-4.87921350e-02,  4.38048504e-02,  2.25700438e-04, ...,\n",
       "          3.76687199e-03, -1.51958577e-02,  1.38271935e-02],\n",
       "        ...,\n",
       "        [-4.68782187e-02,  3.47304456e-02,  1.84740536e-02, ...,\n",
       "         -2.21155286e-02, -3.76934931e-03,  2.88241766e-02],\n",
       "        [-4.51119058e-02,  3.79101671e-02,  4.13432010e-02, ...,\n",
       "         -3.57173756e-03,  2.72818841e-02, -4.57835309e-02],\n",
       "        [ 1.22471340e-02,  4.61599492e-02, -4.94837165e-02, ...,\n",
       "         -3.64186056e-02,  2.15083398e-02, -4.95637059e-02]],\n",
       "\n",
       "       [[-4.87921350e-02,  4.38048504e-02,  2.25700438e-04, ...,\n",
       "          3.76687199e-03, -1.51958577e-02,  1.38271935e-02],\n",
       "        [-4.87921350e-02,  4.38048504e-02,  2.25700438e-04, ...,\n",
       "          3.76687199e-03, -1.51958577e-02,  1.38271935e-02],\n",
       "        [-4.87921350e-02,  4.38048504e-02,  2.25700438e-04, ...,\n",
       "          3.76687199e-03, -1.51958577e-02,  1.38271935e-02],\n",
       "        ...,\n",
       "        [-3.37949544e-02,  4.68001701e-02,  2.83864252e-02, ...,\n",
       "          3.89688499e-02,  4.30525281e-02, -1.50164366e-02],\n",
       "        [-1.57913789e-02,  3.32971476e-02, -3.51824872e-02, ...,\n",
       "         -3.32486853e-02, -1.18852779e-03, -8.75252485e-03],\n",
       "        [-3.98977399e-02, -4.63492759e-02, -1.64556503e-02, ...,\n",
       "         -1.39466636e-02,  3.36178578e-02, -1.01014227e-03]]],\n",
       "      dtype=float32)"
      ]
     },
     "execution_count": 91,
     "metadata": {},
     "output_type": "execute_result"
    }
   ],
   "source": [
    "model.predict(np.array(embedded_docs))"
   ]
  },
  {
   "cell_type": "code",
   "execution_count": null,
   "id": "ee66a4c5-cdd7-4f3b-baaa-3182f5b431f2",
   "metadata": {},
   "outputs": [],
   "source": []
  },
  {
   "cell_type": "code",
   "execution_count": null,
   "id": "31c5f837-03fc-4785-a085-fcdceaea9fe8",
   "metadata": {},
   "outputs": [],
   "source": []
  },
  {
   "cell_type": "code",
   "execution_count": null,
   "id": "92da2f32-02e8-4707-abbf-d446c80445e7",
   "metadata": {},
   "outputs": [],
   "source": []
  }
 ],
 "metadata": {
  "kernelspec": {
   "display_name": "Python 3 (ipykernel)",
   "language": "python",
   "name": "python3"
  },
  "language_info": {
   "codemirror_mode": {
    "name": "ipython",
    "version": 3
   },
   "file_extension": ".py",
   "mimetype": "text/x-python",
   "name": "python",
   "nbconvert_exporter": "python",
   "pygments_lexer": "ipython3",
   "version": "3.11.0"
  }
 },
 "nbformat": 4,
 "nbformat_minor": 5
}
